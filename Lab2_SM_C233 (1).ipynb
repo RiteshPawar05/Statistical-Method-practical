{
  "nbformat": 4,
  "nbformat_minor": 0,
  "metadata": {
    "colab": {
      "private_outputs": true,
      "provenance": []
    },
    "kernelspec": {
      "name": "python3",
      "display_name": "Python 3"
    },
    "language_info": {
      "name": "python"
    }
  },
  "cells": [
    {
      "cell_type": "code",
      "execution_count": null,
      "metadata": {
        "id": "aRVE0lwbd7oc"
      },
      "outputs": [],
      "source": [
        "import numpy as np\n",
        "import pandas as pd"
      ]
    },
    {
      "cell_type": "code",
      "source": [
        "#string\n",
        "country = ['India','Pakistan','USA','Nepal','Srilanka']\n",
        "pd.Series(country)"
      ],
      "metadata": {
        "id": "ZfGzRg4meyfh"
      },
      "execution_count": null,
      "outputs": []
    },
    {
      "cell_type": "code",
      "source": [
        "#Integers\n",
        "runs = [13,24,56,78,100]\n",
        "runs_ser = pd.Series(runs)"
      ],
      "metadata": {
        "id": "WEJrwjdNfCiv"
      },
      "execution_count": null,
      "outputs": []
    },
    {
      "cell_type": "code",
      "source": [
        "#Custom index\n",
        "marks = [67,57,89,100]\n",
        "subjects = ['Maths','English','Science','Hindi']\n",
        "pd.Series(marks,index=subjects)"
      ],
      "metadata": {
        "id": "52F5MPl4gEm0"
      },
      "execution_count": null,
      "outputs": []
    },
    {
      "cell_type": "code",
      "source": [
        "#Setting a name\n",
        "marks = pd.Series(marks,index=subjects,name='Nitish ke marks')\n",
        "marks"
      ],
      "metadata": {
        "id": "A_5nmy2YgYuj"
      },
      "execution_count": null,
      "outputs": []
    },
    {
      "cell_type": "code",
      "source": [
        "marks = {\n",
        "    'maths':67,\n",
        "    'English':57,\n",
        "    'Science':89,\n",
        "    'Hindi':100\n",
        "}\n",
        "marks_series = pd.Series(marks,name='nitish ke marks')\n",
        "marks_series"
      ],
      "metadata": {
        "id": "18l8fH_2gmoa"
      },
      "execution_count": null,
      "outputs": []
    },
    {
      "cell_type": "code",
      "source": [
        "#Size\n",
        "marks_series.size"
      ],
      "metadata": {
        "id": "FCTwPqxvgvcr"
      },
      "execution_count": null,
      "outputs": []
    },
    {
      "cell_type": "code",
      "source": [
        "# Dtype\n",
        "marks_series.dtype"
      ],
      "metadata": {
        "id": "1cuC_JOdgvYk"
      },
      "execution_count": null,
      "outputs": []
    },
    {
      "cell_type": "code",
      "source": [
        "#Name\n",
        "marks_series.name"
      ],
      "metadata": {
        "id": "rDfItCtggvVT"
      },
      "execution_count": null,
      "outputs": []
    },
    {
      "cell_type": "code",
      "source": [
        "# Is_unique\n",
        "marks_series.is_unique\n",
        "pd.Series([1,1,2,3,4,5]).is_unique"
      ],
      "metadata": {
        "id": "ag_zYxuQgvNa"
      },
      "execution_count": null,
      "outputs": []
    },
    {
      "cell_type": "code",
      "source": [
        "#Index\n",
        "marks_series.index"
      ],
      "metadata": {
        "id": "R3ubqfH0gvKS"
      },
      "execution_count": null,
      "outputs": []
    },
    {
      "cell_type": "code",
      "source": [
        "runs_ser.index"
      ],
      "metadata": {
        "id": "99b1lBNqgvHU"
      },
      "execution_count": null,
      "outputs": []
    },
    {
      "cell_type": "code",
      "source": [
        "#values\n",
        "marks_series.values"
      ],
      "metadata": {
        "id": "LFGrytkZgvEz"
      },
      "execution_count": null,
      "outputs": []
    },
    {
      "cell_type": "code",
      "source": [
        "#with one col\n",
        "subs = pd.read_csv('/content/subs.csv')\n",
        "subs"
      ],
      "metadata": {
        "id": "MzNnfReri7LH"
      },
      "execution_count": null,
      "outputs": []
    },
    {
      "cell_type": "code",
      "source": [
        "#With 2 cols\n",
        "vk = pd.read_csv('/content/kohli_ipl.csv',index_col='match_no')\n",
        "vk"
      ],
      "metadata": {
        "id": "cNXpG8yxkRpv"
      },
      "execution_count": null,
      "outputs": []
    },
    {
      "cell_type": "code",
      "source": [
        "movies = pd.read_csv('/content/bollywood.csv',index_col='movie',squeeze=True)\n",
        "movies"
      ],
      "metadata": {
        "id": "MOmstbIMkXbA"
      },
      "execution_count": null,
      "outputs": []
    },
    {
      "cell_type": "code",
      "source": [
        "#head and tail\n"
      ],
      "metadata": {
        "id": "-3GH1TmNkXVY"
      },
      "execution_count": null,
      "outputs": []
    },
    {
      "cell_type": "code",
      "source": [
        "#sample\n",
        "movies.sample(5)"
      ],
      "metadata": {
        "id": "BWS4Uh40kXPg"
      },
      "execution_count": null,
      "outputs": []
    },
    {
      "cell_type": "code",
      "source": [
        "#value_counts -> movies\n",
        "movies.value_counts()"
      ],
      "metadata": {
        "id": "ApR7BM0UkXKh"
      },
      "execution_count": null,
      "outputs": []
    },
    {
      "cell_type": "code",
      "source": [
        "#sort_values -> inplace\n",
        "subs.sort_values(by='Subscribers gained',ascending=False).head(1).values[0]"
      ],
      "metadata": {
        "id": "6L74yTsGkXFA"
      },
      "execution_count": null,
      "outputs": []
    },
    {
      "cell_type": "code",
      "source": [
        "#sum -> subs\n",
        "subs.sum()"
      ],
      "metadata": {
        "id": "CB_X_CHFkW_H"
      },
      "execution_count": null,
      "outputs": []
    },
    {
      "cell_type": "code",
      "source": [
        "#mean -> median -> mode -> std -> var\n",
        "subs.mean\n",
        "print(vk.median())\n",
        "print(movies.mode())\n",
        "print(subs.std())\n",
        "print(vk.var())"
      ],
      "metadata": {
        "id": "2n_2ZzckkW6I"
      },
      "execution_count": null,
      "outputs": []
    },
    {
      "cell_type": "code",
      "source": [
        "#slicing\n",
        "vk[5:16]"
      ],
      "metadata": {
        "id": "nlukw5mFrhq5"
      },
      "execution_count": null,
      "outputs": []
    },
    {
      "cell_type": "code",
      "source": [
        "#negative slicing\n",
        "vk[-5:]"
      ],
      "metadata": {
        "id": "A-z0RhPBrhkp"
      },
      "execution_count": null,
      "outputs": []
    },
    {
      "cell_type": "code",
      "source": [
        "#Arithmetic operator\n",
        "100 + marks_series"
      ],
      "metadata": {
        "id": "p88dcgKXrhca"
      },
      "execution_count": null,
      "outputs": []
    },
    {
      "cell_type": "code",
      "source": [
        "# Relational Operator\n",
        "vk >= 50"
      ],
      "metadata": {
        "id": "o9O0MbG-sVC5"
      },
      "execution_count": null,
      "outputs": []
    },
    {
      "cell_type": "code",
      "source": [
        "subs.plot()"
      ],
      "metadata": {
        "id": "yHBor5rytSc4"
      },
      "execution_count": null,
      "outputs": []
    },
    {
      "cell_type": "code",
      "source": [
        "vk.plot()"
      ],
      "metadata": {
        "id": "Ym79D_4NtYJA"
      },
      "execution_count": null,
      "outputs": []
    },
    {
      "cell_type": "code",
      "source": [
        "movies.value_counts().head(20).plot(kind='pie')"
      ],
      "metadata": {
        "id": "ksUt8YpUtYEw"
      },
      "execution_count": null,
      "outputs": []
    },
    {
      "cell_type": "code",
      "source": [
        "#astype\n",
        "import sys\n",
        "sys.getsizeof(vk)"
      ],
      "metadata": {
        "id": "0B-dnbhJtYCB"
      },
      "execution_count": null,
      "outputs": []
    },
    {
      "cell_type": "code",
      "source": [
        "sys.getsizeof(vk.astype('int16'))"
      ],
      "metadata": {
        "id": "rmduCY2Pvqxi"
      },
      "execution_count": null,
      "outputs": []
    },
    {
      "cell_type": "code",
      "source": [
        "#between\n",
        "vk['runs'].between(51,99).size"
      ],
      "metadata": {
        "id": "sNrSi02Svvqq"
      },
      "execution_count": null,
      "outputs": []
    },
    {
      "cell_type": "code",
      "source": [
        "#clip\n",
        "subs.clip(100,200)"
      ],
      "metadata": {
        "id": "my0w6-0bv2DS"
      },
      "execution_count": null,
      "outputs": []
    },
    {
      "cell_type": "code",
      "source": [
        "#Drop Duplicates\n",
        "temp = pd.Series([1,1,2,2,3,3,4,4])\n",
        "temp"
      ],
      "metadata": {
        "id": "47LB4zxawU-y"
      },
      "execution_count": null,
      "outputs": []
    },
    {
      "cell_type": "code",
      "source": [
        "temp.duplicated().sum()"
      ],
      "metadata": {
        "id": "jl7RrlUCwodx"
      },
      "execution_count": null,
      "outputs": []
    },
    {
      "cell_type": "code",
      "source": [],
      "metadata": {
        "id": "nZOQDHWOwzsB"
      },
      "execution_count": null,
      "outputs": []
    }
  ]
}