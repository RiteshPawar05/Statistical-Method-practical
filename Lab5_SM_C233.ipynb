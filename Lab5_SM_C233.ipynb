{
  "nbformat": 4,
  "nbformat_minor": 0,
  "metadata": {
    "colab": {
      "private_outputs": true,
      "provenance": []
    },
    "kernelspec": {
      "name": "python3",
      "display_name": "Python 3"
    },
    "language_info": {
      "name": "python"
    }
  },
  "cells": [
    {
      "cell_type": "code",
      "execution_count": null,
      "metadata": {
        "id": "u1PvJ-1su1Bz"
      },
      "outputs": [],
      "source": [
        "# Seaborn library\n",
        "import seaborn as sns\n",
        "import matplotlib.pyplot as plt\n",
        "import plotly.express as px"
      ]
    },
    {
      "cell_type": "code",
      "source": [
        "tips = sns.load_dataset('tips')\n",
        "tips"
      ],
      "metadata": {
        "id": "AmER42_FvV7-"
      },
      "execution_count": null,
      "outputs": []
    },
    {
      "cell_type": "code",
      "source": [
        "# Scatter plot -> axes level function\n",
        "sns.scatterplot(data=tips, x = 'total_bill', y='tip', hue='sex', style='time', size='size')"
      ],
      "metadata": {
        "id": "10P6ICcbvngy"
      },
      "execution_count": null,
      "outputs": []
    },
    {
      "cell_type": "code",
      "source": [
        "# line plot\n",
        "gap = px.data.gapminder()\n",
        "temp_df = gap[gap['country'] == 'India']\n",
        "temp_df"
      ],
      "metadata": {
        "id": "i87SGnkevnd6"
      },
      "execution_count": null,
      "outputs": []
    },
    {
      "cell_type": "code",
      "source": [
        "gap.head()"
      ],
      "metadata": {
        "id": "1XXrYKVVvna6"
      },
      "execution_count": null,
      "outputs": []
    },
    {
      "cell_type": "code",
      "source": [
        "# axes level function\n",
        "sns.lineplot(data=temp_df, x='year', y='lifeExp')"
      ],
      "metadata": {
        "id": "WEKtSyZJvnX7"
      },
      "execution_count": null,
      "outputs": []
    },
    {
      "cell_type": "code",
      "source": [
        "# hue -> style\n",
        "temp_df = gap[gap['country'].isin(['India','Brazil','Germany'])]\n",
        "temp_df"
      ],
      "metadata": {
        "id": "0lGW8070ymuj"
      },
      "execution_count": null,
      "outputs": []
    },
    {
      "cell_type": "code",
      "source": [
        "sns.relplot(kind='line',data=temp_df, x = 'year', y = 'lifeExp', hue = 'country', style = 'continent', size = 'continent')"
      ],
      "metadata": {
        "id": "YF6jylx5zBrY"
      },
      "execution_count": null,
      "outputs": []
    },
    {
      "cell_type": "code",
      "source": [
        "sns.lineplot(data = temp_df, x = 'year', y = 'lifeExp', hue = 'country')"
      ],
      "metadata": {
        "id": "4EAyu3Oxzc4L"
      },
      "execution_count": null,
      "outputs": []
    },
    {
      "cell_type": "code",
      "source": [
        "# facet plot -> figure level funtion work with relplot\n",
        "# It will not work with scatterplot and lineplot\n",
        "sns.relplot(data=tips, x = 'total_bill', y = 'tip', kind = 'line', col = 'sex', row = 'day')"
      ],
      "metadata": {
        "id": "a79NACKi02md"
      },
      "execution_count": null,
      "outputs": []
    },
    {
      "cell_type": "code",
      "source": [
        "# col wrap\n",
        "sns.relplot(data=gap, x = 'lifeExp', y = 'gdpPercap', kind = 'scatter', col = 'year', col_wrap=3)"
      ],
      "metadata": {
        "id": "Skg8j65O12-h"
      },
      "execution_count": null,
      "outputs": []
    },
    {
      "cell_type": "code",
      "source": [
        "# Distribution plots"
      ],
      "metadata": {
        "id": "gRvRkDj_2GT6"
      },
      "execution_count": null,
      "outputs": []
    },
    {
      "cell_type": "code",
      "source": [
        "# plotting univariate histogram\n",
        "sns.histplot(data=tips, x = 'total_bill')"
      ],
      "metadata": {
        "id": "uuE3EnUk4Rs6"
      },
      "execution_count": null,
      "outputs": []
    },
    {
      "cell_type": "code",
      "source": [
        "# hue parameter\n",
        "sns.displot(data=tips, x = 'tip', kind = 'hist', hue = 'sex')"
      ],
      "metadata": {
        "id": "7NIIb_X14RpS"
      },
      "execution_count": null,
      "outputs": []
    },
    {
      "cell_type": "code",
      "source": [
        "# kdeplot\n",
        "# Rather than using discrete bins, a KDE plot\n",
        "sns.kdeplot(data = tips, x = 'total_bill')"
      ],
      "metadata": {
        "id": "bUZLUivr6f2v"
      },
      "execution_count": null,
      "outputs": []
    },
    {
      "cell_type": "code",
      "source": [
        "# Rugplot\n",
        "# Plot marginal distributions by drawing ticks along the x and y axes.\n",
        "\n",
        "sns.kdeplot(data = tips, x = 'total_bill')\n",
        "sns"
      ],
      "metadata": {
        "id": "NUHh4Kqx7ac3"
      },
      "execution_count": null,
      "outputs": []
    },
    {
      "cell_type": "code",
      "source": [
        "# Bivariate Histogram\n",
        "sns.displot(data=tips, x = 'total_bill', y = 'tip', kind = 'hist')"
      ],
      "metadata": {
        "id": "HPiZqOYD7ySi"
      },
      "execution_count": null,
      "outputs": []
    },
    {
      "cell_type": "code",
      "source": [
        "sns.kdeplot(data=tips, x = 'total_bill', y = 'tip', kind ='hist')"
      ],
      "metadata": {
        "id": "S3KG20_m796A"
      },
      "execution_count": null,
      "outputs": []
    },
    {
      "cell_type": "code",
      "source": [
        "# annot\n",
        "\n",
        "temp_df = gap[gap['continent'] == 'Europe'].pivot(index = 'country', columns = 'year', values = 'lifeExp')\n",
        "plt.figure(figsize=(15,15))\n",
        "sns.heatmap(temp_df,annot=True,linewidth=0.5, cmap='summer')"
      ],
      "metadata": {
        "id": "WFCvH9Aa8Zj5"
      },
      "execution_count": null,
      "outputs": []
    },
    {
      "cell_type": "code",
      "source": [],
      "metadata": {
        "id": "NMQ2PUio_3Bx"
      },
      "execution_count": null,
      "outputs": []
    }
  ]
}