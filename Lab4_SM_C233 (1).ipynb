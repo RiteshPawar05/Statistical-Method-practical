{
  "nbformat": 4,
  "nbformat_minor": 0,
  "metadata": {
    "colab": {
      "private_outputs": true,
      "provenance": []
    },
    "kernelspec": {
      "name": "python3",
      "display_name": "Python 3"
    },
    "language_info": {
      "name": "python"
    }
  },
  "cells": [
    {
      "cell_type": "code",
      "execution_count": null,
      "metadata": {
        "id": "PkUNlHijn_ib"
      },
      "outputs": [],
      "source": [
        "# import the library\n",
        "import numpy as np\n",
        "import pandas as pd\n",
        "import matplotlib.pyplot as plt\n",
        "import seaborn as sns\n",
        "plt.style.use('default')"
      ]
    },
    {
      "cell_type": "code",
      "source": [
        "# plotting a simple function\n",
        "price = [48000,54000,40000,47000,45000,560000]\n",
        "year = [2015,2016,2017,2018,2019,2020]\n",
        "\n",
        "plt.plot(year,price)"
      ],
      "metadata": {
        "id": "pmJObwCfoVtl"
      },
      "execution_count": null,
      "outputs": []
    },
    {
      "cell_type": "code",
      "source": [
        "# from a pandas dataframe\n",
        "batsman = pd.read_csv('/content/batsman_runs_ipl (1).csv')\n",
        "batsman\n",
        "plt.plot(batsman['batter'],batsman['batsman_run'])"
      ],
      "metadata": {
        "id": "yCjTPPXJo69R"
      },
      "execution_count": null,
      "outputs": []
    },
    {
      "cell_type": "code",
      "source": [
        "# plotting multiple plots\n",
        "batsman = pd.read_csv('/content/batsman_runs_ipl (1).csv')\n",
        "plt.plot(batsman['batter'],batsman['batsman_run'])\n",
        "plt.plot(batsman['batter'],batsman['batsman_run'])"
      ],
      "metadata": {
        "id": "Z8n_tkbwp_BL"
      },
      "execution_count": null,
      "outputs": []
    },
    {
      "cell_type": "code",
      "source": [
        "# colors(hex) and line(width and style) and marker(size)\n",
        "plt.plot(batsman['batter'],batsman['batsman_run'],color='red')\n",
        "plt.plot(batsman['batter'],batsman['batsman_run'],color='yellow')\n",
        "plt.title('Career Statistics')\n",
        "plt.xlabel('Seasons')\n",
        "plt.ylabel('Run scored')"
      ],
      "metadata": {
        "id": "neoEhQcorUXj"
      },
      "execution_count": null,
      "outputs": []
    },
    {
      "cell_type": "code",
      "source": [
        "plt.plot(batsman['batter'],batsman['batsman_run'],color='red',linestyle='solid',linewidth=3)\n",
        "plt.plot(batsman['batter'],batsman['batsman_run'],color='red',linestyle='solid',linewidth=3)"
      ],
      "metadata": {
        "id": "OCQWtgbTs6b0"
      },
      "execution_count": null,
      "outputs": []
    },
    {
      "cell_type": "code",
      "source": [
        "plt.plot(batsman['batter'],batsman['batsman_run'],color='red',linestyle='solid',linewidth=3,marker='D',markersize=10)\n",
        "plt.plot(batsman['batter'],batsman['batsman_run'],color='red',linestyle='solid',linewidth=3,marker='o')"
      ],
      "metadata": {
        "id": "lLct0CtGt-m_"
      },
      "execution_count": null,
      "outputs": []
    },
    {
      "cell_type": "code",
      "source": [
        "plt.plot(batsman['batter'],batsman['batsman_run'],color='red',linestyle='solid',linewidth=1,marker='D',markersize=10,label='Virat')\n",
        "plt.plot(batsman['batter'],batsman['batsman_run'],color='red',linestyle='solid',linewidth=1,marker='o',label='Rohit')\n",
        "plt.legend(loc='upper right')"
      ],
      "metadata": {
        "id": "WuIDkjttt-j3"
      },
      "execution_count": null,
      "outputs": []
    },
    {
      "cell_type": "code",
      "source": [
        "#plt.scatter simple function\n",
        "x = np.linspace(-10,10,50)\n",
        "y = 10*x + 3 + np.random.randint(0,300,50)\n",
        "plt.scatter(x,y)"
      ],
      "metadata": {
        "id": "Sn_tW5AXt-fX"
      },
      "execution_count": null,
      "outputs": []
    },
    {
      "cell_type": "code",
      "source": [
        "df = pd.read_csv('/content/kohli_ipl 1 (2).csv')\n",
        "df\n"
      ],
      "metadata": {
        "id": "AOrneJC5t-c4"
      },
      "execution_count": null,
      "outputs": []
    },
    {
      "cell_type": "code",
      "source": [
        "plt.scatter(df['match_no'],df['runs'],color='red',marker='+')\n",
        "plt.title('Kohli Statistics')\n",
        "plt.xlabel('Average')\n",
        "plt.ylabel('SR')"
      ],
      "metadata": {
        "id": "GPguE99Vt-aY"
      },
      "execution_count": null,
      "outputs": []
    },
    {
      "cell_type": "code",
      "source": [
        "# simple bar chart\n",
        "children = [10,20,40,10,30]\n",
        "colors = ['red','blue','green','yellow','pink']\n",
        "plt.bar(colors,children,color='cyan')"
      ],
      "metadata": {
        "id": "w2urrbtit-Xv"
      },
      "execution_count": null,
      "outputs": []
    },
    {
      "cell_type": "code",
      "source": [
        "# Histogram\n",
        "plt.hist(batsman['batsman_run'],bins=[0,10,20,30,40,50,60,70,80,90,100])\n",
        "plt.show()"
      ],
      "metadata": {
        "id": "H6vyQ1Ldt-VI"
      },
      "execution_count": null,
      "outputs": []
    },
    {
      "cell_type": "code",
      "source": [
        "# Pie chart\n",
        "data = [23,45,100,20,49]\n",
        "subjects = ['eng','science','math','sst','civics']\n",
        "plt.pie(data,labels=subjects)\n",
        "plt.show()"
      ],
      "metadata": {
        "id": "RrqstheP3GZh"
      },
      "execution_count": null,
      "outputs": []
    },
    {
      "cell_type": "code",
      "source": [],
      "metadata": {
        "id": "lKF1H9JZ4ldC"
      },
      "execution_count": null,
      "outputs": []
    },
    {
      "cell_type": "code",
      "source": [],
      "metadata": {
        "id": "1Tbjmvtz7AKc"
      },
      "execution_count": null,
      "outputs": []
    }
  ]
}